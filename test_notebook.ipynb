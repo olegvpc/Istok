{
  "cells": [
    {
      "cell_type": "markdown",
      "metadata": {
        "id": "view-in-github",
        "colab_type": "text"
      },
      "source": [
        "<a href=\"https://colab.research.google.com/github/olegvpc/Istok/blob/main/test_notebook.ipynb\" target=\"_parent\"><img src=\"https://colab.research.google.com/assets/colab-badge.svg\" alt=\"Open In Colab\"/></a>"
      ]
    },
    {
      "cell_type": "markdown",
      "id": "cb919b65",
      "metadata": {
        "id": "cb919b65"
      },
      "source": [
        "This is HTML\n",
        "<br>\n",
        "![swagger.png](attachment:swagger.png)"
      ]
    },
    {
      "cell_type": "code",
      "execution_count": null,
      "id": "ca32e766",
      "metadata": {
        "id": "ca32e766"
      },
      "outputs": [],
      "source": [
        "people = {\n",
        "    \"name\": \"Ivan\",\n",
        "    \"age\": \"35\",\n",
        "    \"proffession\": \"Programmer\"\n",
        "}\n",
        "print(people[\"name\"], people[\"proffession\"])"
      ]
    },
    {
      "cell_type": "code",
      "execution_count": 15,
      "id": "98dd1754",
      "metadata": {
        "id": "98dd1754",
        "colab": {
          "base_uri": "https://localhost:8080/"
        },
        "outputId": "125a2c06-25b9-4fd4-9e78-348f40b9af17"
      },
      "outputs": [
        {
          "output_type": "stream",
          "name": "stdout",
          "text": [
            "Hello world\n"
          ]
        }
      ],
      "source": [
        "print(\"Hello world\")\n"
      ]
    },
    {
      "cell_type": "code",
      "execution_count": 3,
      "id": "fb77212d",
      "metadata": {
        "id": "fb77212d",
        "colab": {
          "base_uri": "https://localhost:8080/",
          "height": 329
        },
        "outputId": "deb4048d-85cd-4700-8cdd-48408c25ccfc"
      },
      "outputs": [
        {
          "output_type": "error",
          "ename": "KeyboardInterrupt",
          "evalue": "ignored",
          "traceback": [
            "\u001b[0;31m---------------------------------------------------------------------------\u001b[0m",
            "\u001b[0;31mKeyboardInterrupt\u001b[0m                         Traceback (most recent call last)",
            "Input \u001b[0;32mIn [3]\u001b[0m, in \u001b[0;36m<cell line: 12>\u001b[0;34m()\u001b[0m\n\u001b[1;32m      9\u001b[0m     result\u001b[38;5;241m.\u001b[39mpop()\n\u001b[1;32m     10\u001b[0m   \u001b[38;5;28mprint\u001b[39m(\u001b[38;5;124m\"\u001b[39m\u001b[38;5;124mtask complited\u001b[39m\u001b[38;5;124m\"\u001b[39m)\n\u001b[0;32m---> 12\u001b[0m \u001b[43mcount\u001b[49m\u001b[43m(\u001b[49m\u001b[38;5;241;43m10000\u001b[39;49m\u001b[43m)\u001b[49m\n",
            "Input \u001b[0;32mIn [3]\u001b[0m, in \u001b[0;36mcount\u001b[0;34m(seconds)\u001b[0m\n\u001b[1;32m      6\u001b[0m \u001b[38;5;28;01mfor\u001b[39;00m i \u001b[38;5;129;01min\u001b[39;00m \u001b[38;5;28mrange\u001b[39m(\u001b[38;5;28mint\u001b[39m(seconds)):\n\u001b[1;32m      7\u001b[0m   result\u001b[38;5;241m.\u001b[39mappend(i)\n\u001b[0;32m----> 8\u001b[0m   \u001b[43mtime\u001b[49m\u001b[38;5;241;43m.\u001b[39;49m\u001b[43msleep\u001b[49m\u001b[43m(\u001b[49m\u001b[38;5;241;43m1\u001b[39;49m\u001b[43m)\u001b[49m\n\u001b[1;32m      9\u001b[0m   result\u001b[38;5;241m.\u001b[39mpop()\n\u001b[1;32m     10\u001b[0m \u001b[38;5;28mprint\u001b[39m(\u001b[38;5;124m\"\u001b[39m\u001b[38;5;124mtask complited\u001b[39m\u001b[38;5;124m\"\u001b[39m)\n",
            "\u001b[0;31mKeyboardInterrupt\u001b[0m: "
          ]
        }
      ],
      "source": [
        "import time\n",
        "\n",
        "result = [0]\n",
        "\n",
        "def count(seconds):\n",
        "  for i in range(int(seconds)):\n",
        "    result.append(i)\n",
        "    time.sleep(1)\n",
        "    result.pop()\n",
        "  print(\"task complited\")\n",
        "\n",
        "count(10000)"
      ]
    },
    {
      "cell_type": "code",
      "source": [
        "print(result)"
      ],
      "metadata": {
        "colab": {
          "base_uri": "https://localhost:8080/"
        },
        "id": "4J1kLPXgTp_4",
        "outputId": "cc31e139-026f-4560-a8f2-0f16f205fec2"
      },
      "id": "4J1kLPXgTp_4",
      "execution_count": 4,
      "outputs": [
        {
          "output_type": "stream",
          "name": "stdout",
          "text": [
            "[0, 8]\n"
          ]
        }
      ]
    },
    {
      "cell_type": "markdown",
      "id": "9c44d6c7",
      "metadata": {
        "id": "9c44d6c7"
      },
      "source": [
        "# Hello - this is new item"
      ]
    }
  ],
  "metadata": {
    "kernelspec": {
      "display_name": "Python 3 (ipykernel)",
      "language": "python",
      "name": "python3"
    },
    "language_info": {
      "codemirror_mode": {
        "name": "ipython",
        "version": 3
      },
      "file_extension": ".py",
      "mimetype": "text/x-python",
      "name": "python",
      "nbconvert_exporter": "python",
      "pygments_lexer": "ipython3",
      "version": "3.9.16"
    },
    "colab": {
      "provenance": [],
      "include_colab_link": true
    }
  },
  "nbformat": 4,
  "nbformat_minor": 5
}